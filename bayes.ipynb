{
 "cells": [
  {
   "cell_type": "code",
   "execution_count": 1,
   "metadata": {},
   "outputs": [],
   "source": [
    "# https://www.tensorflow.org/tutorials/keras/classification\n",
    "# TensorFlow and tf.keras\n",
    "import tensorflow as tf\n",
    "\n",
    "# Helper libraries\n",
    "import numpy as np\n",
    "import matplotlib.pyplot as plt"
   ]
  },
  {
   "cell_type": "code",
   "execution_count": 26,
   "metadata": {},
   "outputs": [],
   "source": [
    "from sklearn.metrics import accuracy_score\n",
    "from sklearn.metrics import precision_score\n",
    "from sklearn.metrics import recall_score\n",
    "from sklearn.metrics import f1_score\n",
    "from sklearn.metrics import confusion_matrix"
   ]
  },
  {
   "cell_type": "code",
   "execution_count": 2,
   "metadata": {},
   "outputs": [],
   "source": [
    "import math"
   ]
  },
  {
   "cell_type": "code",
   "execution_count": 3,
   "metadata": {},
   "outputs": [],
   "source": [
    "# ta train_labels einai ta y. Auta pou psaxnoume na broume sumfwna me ta x(train_images)\n",
    "fashion_mnist = tf.keras.datasets.fashion_mnist\n",
    "\n",
    "(train_images, train_labels), (test_images, test_labels) = fashion_mnist.load_data()\n",
    "class_names = ['T-shirt/top', 'Trouser', 'Pullover', 'Dress', 'Coat',\n",
    "               'Sandal', 'Shirt', 'Sneaker', 'Bag', 'Ankle boot']"
   ]
  },
  {
   "cell_type": "code",
   "execution_count": 4,
   "metadata": {},
   "outputs": [],
   "source": [
    "# Scale these values to a range of 0 to 1 before feeding them to the neural network model.\n",
    "# To do so, divide the values by 255. It's important that the training set and\n",
    "# the testing set be preprocessed in the same way:\n",
    "train_images = train_images / 255.0\n",
    "\n",
    "test_images = test_images / 255.0"
   ]
  },
  {
   "cell_type": "code",
   "execution_count": 5,
   "metadata": {},
   "outputs": [
    {
     "name": "stdout",
     "output_type": "stream",
     "text": [
      "(60000, 784)\n",
      "(60000,)\n"
     ]
    }
   ],
   "source": [
    "train_images = train_images.reshape(60000,784)\n",
    "print(train_images.shape)\n",
    "print(train_labels.shape)"
   ]
  },
  {
   "cell_type": "code",
   "execution_count": 6,
   "metadata": {},
   "outputs": [],
   "source": [
    "def getMean(train_images, train_labels):\n",
    "    mean = np.zeros([10,784])\n",
    "    # i expresses what photo we're looking at\n",
    "    for i in range(train_labels.size):\n",
    "        # Let's test if the photo is labeled as \"0\"\n",
    "        if(train_labels[i] == 0):\n",
    "            for j in range(784):\n",
    "                # j expresses what pixel of the i-th photo we're looking at\n",
    "                mean[0][j] += train_images[i][j]/10000\n",
    "        \n",
    "        # Let's test if the photo is labeled as \"1\"\n",
    "        if(train_labels[i] == 1):\n",
    "            for j in range(784):\n",
    "                # j expresses what pixel of the i-th photo we're looking at\n",
    "                mean[1][j] += train_images[i][j]/10000\n",
    "                \n",
    "        # Let's test if the photo is labeled as \"2\"\n",
    "        if(train_labels[i] == 2):\n",
    "            for j in range(784):\n",
    "                # j expresses what pixel of the i-th photo we're looking at\n",
    "                mean[2][j] += train_images[i][j]/10000\n",
    "                \n",
    "        # Let's test if the photo is labeled as \"3\"\n",
    "        if(train_labels[i] == 3):\n",
    "            for j in range(784):\n",
    "                # j expresses what pixel of the i-th photo we're looking at\n",
    "                mean[3][j] += train_images[i][j]/10000\n",
    "                \n",
    "        # Let's test if the photo is labeled as \"4\"\n",
    "        if(train_labels[i] == 4):\n",
    "            for j in range(784):\n",
    "                # j expresses what pixel of the i-th photo we're looking at\n",
    "                mean[4][j] += train_images[i][j]/10000\n",
    "                \n",
    "        # Let's test if the photo is labeled as \"5\"\n",
    "        if(train_labels[i] == 5):\n",
    "            for j in range(784):\n",
    "                # j expresses what pixel of the i-th photo we're looking at\n",
    "                mean[5][j] += train_images[i][j]/10000\n",
    "                \n",
    "        # Let's test if the photo is labeled as \"6\"\n",
    "        if(train_labels[i] == 6):\n",
    "            for j in range(784):\n",
    "                # j expresses what pixel of the i-th photo we're looking at\n",
    "                mean[6][j] += train_images[i][j]/10000\n",
    "                \n",
    "        # Let's test if the photo is labeled as \"7\"\n",
    "        if(train_labels[i] == 7):\n",
    "            for j in range(784):\n",
    "                # j expresses what pixel of the i-th photo we're looking at\n",
    "                mean[7][j] += train_images[i][j]/10000\n",
    "                \n",
    "        # Let's test if the photo is labeled as \"8\"\n",
    "        if(train_labels[i] == 8):\n",
    "            for j in range(784):\n",
    "                # j expresses what pixel of the i-th photo we're looking at\n",
    "                mean[8][j] += train_images[i][j]/10000\n",
    "                \n",
    "        # Let's test if the photo is labeled as \"9\"\n",
    "        if(train_labels[i] == 9):\n",
    "            for j in range(784):\n",
    "                # j expresses what pixel of the i-th photo we're looking at\n",
    "                mean[9][j] += train_images[i][j]/10000\n",
    "\n",
    "    return mean"
   ]
  },
  {
   "cell_type": "code",
   "execution_count": 7,
   "metadata": {},
   "outputs": [],
   "source": [
    "def getVariance(train_images, train_labels, mean):\n",
    "    var = np.zeros([10,784])\n",
    "    # i expresses what photo we're looking at\n",
    "    for i in range(train_labels.size):\n",
    "        # Let's test if the photo is labeled as \"0\"\n",
    "        if(train_labels[i] == 0):\n",
    "            for j in range(784):\n",
    "                # j expresses what pixel of the i-th photo we're looking at\n",
    "                var[0][j] += (train_images[i][j]-mean[0][j])**2 / 10000\n",
    "        \n",
    "        # Let's test if the photo is labeled as \"1\"\n",
    "        if(train_labels[i] == 1):\n",
    "            for j in range(784):\n",
    "                # j expresses what pixel of the i-th photo we're looking at\n",
    "                var[1][j] += (train_images[i][j]-mean[1][j])**2 / 10000\n",
    "                \n",
    "        # Let's test if the photo is labeled as \"2\"\n",
    "        if(train_labels[i] == 2):\n",
    "            for j in range(784):\n",
    "                # j expresses what pixel of the i-th photo we're looking at\n",
    "                var[2][j] += (train_images[i][j]-mean[2][j])**2 / 10000\n",
    "                \n",
    "        # Let's test if the photo is labeled as \"3\"\n",
    "        if(train_labels[i] == 3):\n",
    "            for j in range(784):\n",
    "                # j expresses what pixel of the i-th photo we're looking at\n",
    "                var[3][j] += (train_images[i][j]-mean[3][j])**2 / 10000\n",
    "                \n",
    "        # Let's test if the photo is labeled as \"4\"\n",
    "        if(train_labels[i] == 4):\n",
    "            for j in range(784):\n",
    "                # j expresses what pixel of the i-th photo we're looking at\n",
    "                var[4][j] += (train_images[i][j]-mean[4][j])**2 / 10000\n",
    "                \n",
    "        # Let's test if the photo is labeled as \"5\"\n",
    "        if(train_labels[i] == 5):\n",
    "            for j in range(784):\n",
    "                # j expresses what pixel of the i-th photo we're looking at\n",
    "                var[5][j] += (train_images[i][j]-mean[5][j])**2 / 10000\n",
    "                \n",
    "        # Let's test if the photo is labeled as \"6\"\n",
    "        if(train_labels[i] == 6):\n",
    "            for j in range(784):\n",
    "                # j expresses what pixel of the i-th photo we're looking at\n",
    "                var[6][j] += (train_images[i][j]-mean[6][j])**2 / 10000\n",
    "                \n",
    "        # Let's test if the photo is labeled as \"7\"\n",
    "        if(train_labels[i] == 7):\n",
    "            for j in range(784):\n",
    "                # j expresses what pixel of the i-th photo we're looking at\n",
    "                var[7][j] += (train_images[i][j]-mean[7][j])**2 / 10000\n",
    "                \n",
    "        # Let's test if the photo is labeled as \"8\"\n",
    "        if(train_labels[i] == 8):\n",
    "            for j in range(784):\n",
    "                # j expresses what pixel of the i-th photo we're looking at\n",
    "                var[8][j] += (train_images[i][j]-mean[8][j])**2 / 10000\n",
    "                \n",
    "        # Let's test if the photo is labeled as \"9\"\n",
    "        if(train_labels[i] == 9):\n",
    "            for j in range(784):\n",
    "                # j expresses what pixel of the i-th photo we're looking at\n",
    "                var[9][j] += (train_images[i][j]-mean[9][j])**2 / 10000\n",
    "    return mean\n",
    "        "
   ]
  },
  {
   "cell_type": "code",
   "execution_count": 20,
   "metadata": {},
   "outputs": [],
   "source": [
    "def onePrediction(test_images, mean, var):\n",
    "    res = np.zeros(10)\n",
    "    for i in range(10):\n",
    "        temp = 0\n",
    "        for j in range(784):\n",
    "            if(var[i][j] == 0):\n",
    "                var[i][j] = 0.00000000001\n",
    "            if(math.isnan(np.log(var[i][j]))):\n",
    "                print('NAN detected')\n",
    "            temp += -(1/2)*np.log(var[i][j])-(test_images[j]-mean[i][j])**2 / (2*var[i][j])\n",
    "        res[i] = temp\n",
    "    return res"
   ]
  },
  {
   "cell_type": "code",
   "execution_count": 21,
   "metadata": {},
   "outputs": [],
   "source": [
    "def getPredictions(test_images, mean, var):\n",
    "    res = np.zeros(10000)\n",
    "    for i in range(10000):\n",
    "        temp = onePrediction(test_images[i], mean, var)\n",
    "        res[i] = np.argmax(temp)\n",
    "    return res"
   ]
  },
  {
   "cell_type": "code",
   "execution_count": 10,
   "metadata": {},
   "outputs": [
    {
     "name": "stdout",
     "output_type": "stream",
     "text": [
      "(10, 784)\n"
     ]
    }
   ],
   "source": [
    "mean = getMean(train_images, train_labels)"
   ]
  },
  {
   "cell_type": "code",
   "execution_count": 11,
   "metadata": {},
   "outputs": [],
   "source": [
    "var = getVariance(train_images, train_labels, mean)"
   ]
  },
  {
   "cell_type": "code",
   "execution_count": 32,
   "metadata": {},
   "outputs": [],
   "source": [
    "test_images = test_images.reshape(10000,784)"
   ]
  },
  {
   "cell_type": "code",
   "execution_count": 23,
   "metadata": {
    "scrolled": false
   },
   "outputs": [],
   "source": [
    "res = getPredictions(test_images, mean, var)"
   ]
  },
  {
   "cell_type": "code",
   "execution_count": 31,
   "metadata": {},
   "outputs": [
    {
     "name": "stdout",
     "output_type": "stream",
     "text": [
      "Accuracy: 0.527600\n",
      "F1 score: 0.527600\n"
     ]
    }
   ],
   "source": [
    "# accuracy: (tp + tn) / (p + n)\n",
    "accuracy = accuracy_score(test_labels, res)\n",
    "print('Accuracy: %f' % accuracy)\n",
    "\n",
    "#f1: 2 tp / (2 tp + fp + fn)\n",
    "f1 = f1_score(test_labels, res,pos_label='positive',average='micro')\n",
    "print('F1 score: %f' % f1)"
   ]
  }
 ],
 "metadata": {
  "kernelspec": {
   "display_name": "Python 3",
   "language": "python",
   "name": "python3"
  },
  "language_info": {
   "codemirror_mode": {
    "name": "ipython",
    "version": 3
   },
   "file_extension": ".py",
   "mimetype": "text/x-python",
   "name": "python",
   "nbconvert_exporter": "python",
   "pygments_lexer": "ipython3",
   "version": "3.8.5"
  }
 },
 "nbformat": 4,
 "nbformat_minor": 4
}
